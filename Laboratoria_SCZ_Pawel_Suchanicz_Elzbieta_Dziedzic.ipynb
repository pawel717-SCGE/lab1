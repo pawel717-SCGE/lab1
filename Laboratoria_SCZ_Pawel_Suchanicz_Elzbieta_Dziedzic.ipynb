{
 "cells": [
  {
   "cell_type": "markdown",
   "metadata": {
    "colab_type": "text",
    "id": "view-in-github"
   },
   "source": [
    "<a href=\"https://colab.research.google.com/github//pawel717-SCGE/lab1/blob/master/lab1-SCGE.ipynb\" target=\"_parent\"><img src=\"https://colab.research.google.com/assets/colab-badge.svg\" alt=\"Open In Colab\"/></a>"
   ]
  },
  {
   "cell_type": "markdown",
   "metadata": {},
   "source": [
    "<center>\n",
    "<h1>\n",
    "Szeregi czasowe\n",
    "</h1>\n",
    "<h2>\n",
    "Sprawozdanie z laboratorium\n",
    "</h2>\n",
    "</center>\n",
    "\n",
    "<p style=\"text-align: right\">\n",
    "    <b><i>Wykonali:</i></b><br>\n",
    "<i>Paweł Suchanicz</i><br>\n",
    "<i>Elżbieta Dziedzic</i>\n",
    "</p>\n"
   ]
  },
  {
   "cell_type": "markdown",
   "metadata": {},
   "source": [
    "# LAB 1"
   ]
  },
  {
   "cell_type": "markdown",
   "metadata": {},
   "source": [
    "## Dane z rozkładu normalnego"
   ]
  },
  {
   "cell_type": "markdown",
   "metadata": {},
   "source": [
    "### Generowanie danych o rozkładzie normalnym"
   ]
  },
  {
   "cell_type": "code",
   "execution_count": null,
   "metadata": {},
   "outputs": [],
   "source": [
    "import matplotlib.pyplot as plt\n",
    "import numpy as np\n",
    "import pandas as pd\n",
    "import sklearn\n",
    "import seaborn as sns\n",
    "\n",
    "mu = 1.0\n",
    "sigma = 2.0\n",
    "sample = np.random.normal(mu, sigma, 10000)"
   ]
  },
  {
   "cell_type": "markdown",
   "metadata": {},
   "source": [
    "Wygenerowano próbkę z rozkładu normalnego o parametrach μ=1.0 i σ=2.0. Liczebność próbki wynosi 10000."
   ]
  },
  {
   "cell_type": "code",
   "execution_count": null,
   "metadata": {},
   "outputs": [],
   "source": [
    "plt.title(\"Wykres danych z rozkładu normalnego o parametrach μ=1.0 i σ=2.0\")\n",
    "plt.plot(sample)"
   ]
  },
  {
   "cell_type": "markdown",
   "metadata": {},
   "source": [
    "### Standaryzacja danych"
   ]
  },
  {
   "cell_type": "code",
   "execution_count": null,
   "metadata": {},
   "outputs": [],
   "source": [
    "# funkcja do standryzacji próbki\n",
    "def standarize(sample):\n",
    "    return (sample - sample.mean())/(sample.std())\n",
    "\n",
    "sample_standarized = standarize(sample)\n",
    "plt.title(\"Wykres danych z rozkładu normalnego o parametrach μ=1.0 i σ=2.0 po standaryzacji\")\n",
    "plt.plot(sample_standarized)"
   ]
  },
  {
   "cell_type": "markdown",
   "metadata": {},
   "source": [
    "### Tworzenie histogramu"
   ]
  },
  {
   "cell_type": "code",
   "execution_count": null,
   "metadata": {},
   "outputs": [],
   "source": [
    "# funkcja do tworzenia histogramu z podnych danych (sample)\n",
    "def plot_histogram(sample, title=''):\n",
    "    plt.title(title)\n",
    "    count, bins, patches = plt.hist(sample, 20, density=True)\n",
    "    sns.kdeplot(sample)\n",
    "    plt.show()\n",
    "    \n",
    "plot_histogram(sample, \"Histogram z próbki bez standaryzacji\")\n",
    "plot_histogram(sample_standarized, \"Histogram z próbki po standaryzacji\")"
   ]
  },
  {
   "cell_type": "markdown",
   "metadata": {},
   "source": [
    "### Histogram w skali logarytmicznej"
   ]
  },
  {
   "cell_type": "code",
   "execution_count": null,
   "metadata": {},
   "outputs": [],
   "source": [
    "# funkcja do tworzenia histogramu w skali logarytmicznej z podanej próbki (sample)\n",
    "def plot_log_histogram(sample, title=''):\n",
    "    plt.title(title)\n",
    "    plt.yscale('log', nonposy='clip')\n",
    "    count, bins, patches = plt.hist(sample, 20, density=True)\n",
    "    plt.show()\n",
    "    \n",
    "plot_log_histogram(sample_standarized, 'Histogram z próbki po standaryzacji w skali logarytmicznej')"
   ]
  },
  {
   "cell_type": "markdown",
   "metadata": {},
   "source": [
    " ### Dystrybuanta"
   ]
  },
  {
   "cell_type": "code",
   "execution_count": null,
   "metadata": {},
   "outputs": [],
   "source": [
    "def plot_cumulative_distribution(sample, sigma, mu, title=''):\n",
    "    count, bins, patches = plt.hist(sample, 20, density=True, cumulative=True,histtype='step', label='Empirical')\n",
    "    y = ((1 / (np.sqrt(2 * np.pi) * sigma)) *\n",
    "         np.exp(-0.5 * (1 / sigma * (bins - mu))**2))\n",
    "    y = y.cumsum()\n",
    "    y /= y[-1]\n",
    "    plt.title(title)\n",
    "    plt.plot(bins, y, 'k--', linewidth=1.5, label='Theoretical')\n",
    "    plt.legend(loc='upper left')\n",
    "    plt.show()\n",
    "\n",
    "plot_cumulative_distribution(sample, sigma=sigma, mu=mu, title=\"Wykres dystrybuanty dla próbki bez standaryzacji\")\n",
    "plot_cumulative_distribution(sample_standarized, sigma=1.0, mu=0, title=\"Wykres dystrybuanty dla próbki po standaryzacji\")"
   ]
  },
  {
   "cell_type": "markdown",
   "metadata": {},
   "source": [
    "Na wykresach wartości empiryczne dystrybuanty pokrywają się z teoretycznymi."
   ]
  },
  {
   "cell_type": "markdown",
   "metadata": {},
   "source": [
    "### Autokorelacja "
   ]
  },
  {
   "cell_type": "code",
   "execution_count": null,
   "metadata": {},
   "outputs": [],
   "source": [
    "pd.plotting.autocorrelation_plot(sample_standarized)"
   ]
  },
  {
   "cell_type": "markdown",
   "metadata": {},
   "source": [
    "Używamy wykresu autokorelacji, aby sprawdzić czy w próbce danych występują zależności między danymi dla różnych opóźnień czasowych.\n",
    "\n",
    "Na wykresie wszystkie autokorelacje wynoszą oscylują bardzo blisko w granicach 0, więc analizowany rozkład jest losowy, dane układają się w sposób przypadkowy.\n",
    "\n"
   ]
  },
  {
   "cell_type": "markdown",
   "metadata": {},
   "source": [
    "## Dane Giełdowe"
   ]
  },
  {
   "cell_type": "markdown",
   "metadata": {},
   "source": [
    "Wczytanie danych giełdowych (notowania S&P500 https://finance.yahoo.com/quote/%5EGSPC/):"
   ]
  },
  {
   "cell_type": "code",
   "execution_count": null,
   "metadata": {},
   "outputs": [],
   "source": [
    "import pandas as pd\n",
    "df_gspc = pd.read_csv('gspc.csv', index_col='Date')\n",
    "df_gspc"
   ]
  },
  {
   "cell_type": "code",
   "execution_count": null,
   "metadata": {},
   "outputs": [],
   "source": [
    "df_gspc.describe()"
   ]
  },
  {
   "cell_type": "code",
   "execution_count": null,
   "metadata": {},
   "outputs": [],
   "source": [
    "df_close = df_gspc['Adj Close']\n",
    "df_close.plot(title='Wykres cen zamknięcia S&P 500 na przestrzeni lat')"
   ]
  },
  {
   "cell_type": "markdown",
   "metadata": {},
   "source": [
    "Z wykresu wnioskujemy, że dane posiadają trend rosnący.\n",
    "\n",
    "Nastepnie liczymy zwroty jako różnicę obecnej i poprzedniej ceny zamknięcia."
   ]
  },
  {
   "cell_type": "code",
   "execution_count": null,
   "metadata": {},
   "outputs": [],
   "source": [
    "rets = df_close / df_close.shift(1) - 1\n",
    "rets.plot(title='Wykres zmian w cenach zamknięcia S&P500 na przestrzeni lat')"
   ]
  },
  {
   "cell_type": "markdown",
   "metadata": {},
   "source": [
    "Wyliczamy także logarytmiczne stopy zwrotu:"
   ]
  },
  {
   "cell_type": "code",
   "execution_count": null,
   "metadata": {},
   "outputs": [],
   "source": [
    "df_change = pd.DataFrame(df_close).apply(lambda x: np.log(x) - np.log(x.shift(1))) \n",
    "df_change.describe()"
   ]
  },
  {
   "cell_type": "code",
   "execution_count": null,
   "metadata": {},
   "outputs": [],
   "source": [
    "df_change.plot(title='Wykres logarytmiczny stóp zwrotu S&P500 na przestrzeni lat')"
   ]
  },
  {
   "cell_type": "code",
   "execution_count": null,
   "metadata": {},
   "outputs": [],
   "source": [
    "import scipy.stats as stats\n",
    "fig, ax = plt.subplots(figsize=(10, 6))\n",
    "\n",
    "\n",
    "shape, loc, scale = stats.lognorm.fit(df_close) \n",
    "x = np.linspace(df_close.min(), df_close.max(), len(df_close))\n",
    "pdf = stats.lognorm.pdf(x, shape, loc=loc, scale=scale) \n",
    "label = 'mean=%.4f, std=%.4f, shape=%.4f' % (loc, scale, shape)\n",
    "ax.set_title(\"Histogram stóp zwrotu S&P500\")\n",
    "ax.hist(df_close, bins=30, density=True)\n",
    "ax.plot(x, pdf, 'r-', lw=2, label=label)\n",
    "ax.legend(loc='best')"
   ]
  },
  {
   "cell_type": "code",
   "execution_count": null,
   "metadata": {},
   "outputs": [],
   "source": [
    "values = df_change['Adj Close'][1:]  # skip first NA value\n",
    "x = np.linspace(values.min(), values.max(), len(values))\n",
    "\n",
    "loc, scale = stats.norm.fit(values)\n",
    "param_density = stats.norm.pdf(x, loc=loc, scale=scale)\n",
    "label = 'mean=%.4f, std=%.4f' % (loc, scale)\n",
    "\n",
    "fig, ax = plt.subplots(figsize=(10, 6))\n",
    "ax.set_title(\"Histogram logarytmicznych stóp zwrotu S&P500\")\n",
    "ax.hist(values, bins=30, density=True)\n",
    "ax.plot(x, param_density, 'r-', label=label)\n",
    "ax.legend(loc='best')"
   ]
  },
  {
   "cell_type": "code",
   "execution_count": null,
   "metadata": {},
   "outputs": [],
   "source": [
    "values = df_change['Adj Close'][1:]  # skip first NA value\n",
    "x = np.linspace(values.min(), values.max(), len(values))\n",
    "\n",
    "loc, scale = stats.norm.fit(values)\n",
    "param_density = stats.norm.cdf(x, loc=loc, scale=scale)\n",
    "label = 'mean=%.4f, std=%.4f' % (loc, scale)\n",
    "\n",
    "fig, ax = plt.subplots(figsize=(10, 6))\n",
    "ax.set_title(\"Dystrybuanta logarytmicznych stóp zwrotu S&P500\")\n",
    "ax.hist(values, bins=30, density=True, cumulative=True, histtype='step')\n",
    "ax.plot(x, param_density, 'r-', label=label)\n",
    "ax.legend(loc='best')"
   ]
  },
  {
   "cell_type": "markdown",
   "metadata": {},
   "source": [
    "### Autokorelacja"
   ]
  },
  {
   "cell_type": "code",
   "execution_count": null,
   "metadata": {},
   "outputs": [],
   "source": [
    "pd.plotting.autocorrelation_plot(df_close);"
   ]
  },
  {
   "cell_type": "markdown",
   "metadata": {},
   "source": [
    "Z wykresu wynika, że dla danych giełdowych występują zależności. Najsilniejsze autokorelacje znajdują się na początku oraz w okolicy 15000."
   ]
  },
  {
   "cell_type": "code",
   "execution_count": null,
   "metadata": {},
   "outputs": [],
   "source": [
    "pd.plotting.autocorrelation_plot(rets[1:]);"
   ]
  },
  {
   "cell_type": "markdown",
   "metadata": {},
   "source": [
    "Autokorelacje na wykresie wynoszą 0. W szeregu z wartościami zwrotu nie są widoczne korelacje."
   ]
  },
  {
   "cell_type": "code",
   "execution_count": null,
   "metadata": {},
   "outputs": [],
   "source": [
    "pd.plotting.autocorrelation_plot(df_change['Adj Close'][1:]);"
   ]
  },
  {
   "cell_type": "markdown",
   "metadata": {},
   "source": [
    "Autokorelacje na wykresie wynoszą 0. Także w szeregu z wartościami logarytmicznymi zwrotu nie są widoczne korelacje."
   ]
  },
  {
   "cell_type": "markdown",
   "metadata": {},
   "source": [
    "# LAB 2\n",
    "## Notowania kryptowalut"
   ]
  },
  {
   "cell_type": "markdown",
   "metadata": {},
   "source": [
    "Wczytanie danych dotyczących nototwań kryptowaluty Bitcoin(BTC) w stosunku do dolara ameykańskiego(USD):"
   ]
  },
  {
   "cell_type": "code",
   "execution_count": null,
   "metadata": {},
   "outputs": [],
   "source": [
    "import pandas as pd\n",
    "df_btcusd = pd.read_csv('Bitfinex_BTCUSD_1h.csv', index_col='Date')\n",
    "df_btcusd"
   ]
  },
  {
   "cell_type": "code",
   "execution_count": null,
   "metadata": {},
   "outputs": [],
   "source": [
    "df_btcusd.describe()"
   ]
  },
  {
   "cell_type": "code",
   "execution_count": null,
   "metadata": {},
   "outputs": [],
   "source": [
    "df_btcusd_close = df_btcusd['Close']\n",
    "df_btcusd_close.plot(title='Wykres cen zamknięcia notowań BTC/USD na przestrzeni lat')"
   ]
  },
  {
   "cell_type": "markdown",
   "metadata": {},
   "source": [
    "Na wykresie znajduje się kilka lokalnych trendów.\n",
    "\n",
    "Wyliczamy fluktuacje (zmiany) w cenach zamknięcia notowań jako różnica wartości obecnej i poprzeniego notowania."
   ]
  },
  {
   "cell_type": "code",
   "execution_count": null,
   "metadata": {},
   "outputs": [],
   "source": [
    "btdusd_rets = df_btcusd_close / df_btcusd_close.shift(1) - 1\n",
    "btdusd_rets.plot(title='Wykres zmian w cenach zamknięcia notowań BTC/USD na przestrzeni lat')"
   ]
  },
  {
   "cell_type": "markdown",
   "metadata": {},
   "source": [
    "Wyliczamy także logarytmiczne stopy zwrotu:"
   ]
  },
  {
   "cell_type": "code",
   "execution_count": null,
   "metadata": {},
   "outputs": [],
   "source": [
    "df_btdusd_change = pd.DataFrame(df_btcusd_close).apply(lambda x: np.log(x) - np.log(x.shift(1))) \n",
    "df_btdusd_change.describe()\n",
    "df_btdusd_change.plot(title='Wykres logarytmiczny stóp zwrotu BTC/USD na przestrzeni lat')"
   ]
  },
  {
   "cell_type": "code",
   "execution_count": null,
   "metadata": {},
   "outputs": [],
   "source": [
    "import scipy.stats as stats\n",
    "fig, ax = plt.subplots(figsize=(10, 6))\n",
    "\n",
    "\n",
    "loc, scale = stats.norm.fit(df_btcusd_close) \n",
    "x = np.linspace(df_btcusd_close.min(), df_btcusd_close.max(), len(df_btcusd_close))\n",
    "pdf = stats.norm.pdf(x, loc=loc, scale=scale) \n",
    "label = 'mean=%.4f, std=%.4f, shape=%.4f' % (loc, scale, shape)\n",
    "ax.set_title(\"Histogram stóp zwrotu BTC/USD\")\n",
    "ax.hist(df_btcusd_close, bins=30, density=True)\n",
    "ax.plot(x, pdf, 'r-', lw=2, label=label)\n",
    "ax.legend(loc='best')"
   ]
  },
  {
   "cell_type": "markdown",
   "metadata": {},
   "source": [
    "Prawa strona histogramu częściowo układa się w sposób zbliżony do rozkładu normalnego, jego lewa strona zupełnie od niego odbiega, występują maksima wykraczające poza rozkład normalny."
   ]
  },
  {
   "cell_type": "code",
   "execution_count": null,
   "metadata": {},
   "outputs": [],
   "source": [
    "values = df_btdusd_change['Close'][1:]  # skip first NA value\n",
    "x = np.linspace(values.min(), values.max(), len(values))\n",
    "\n",
    "loc, scale = stats.norm.fit(values)\n",
    "param_density = stats.norm.pdf(x, loc=loc, scale=scale)\n",
    "label = 'mean=%.4f, std=%.4f' % (loc, scale)\n",
    "ax.set_title(\"Histogram loagrytmicznych stóp zwrotu BTC/USD\")\n",
    "fig, ax = plt.subplots(figsize=(10, 6))\n",
    "ax.hist(values, bins=30, density=True)\n",
    "ax.plot(x, param_density, 'r-', label=label)\n",
    "ax.legend(loc='best')"
   ]
  },
  {
   "cell_type": "markdown",
   "metadata": {},
   "source": [
    "Histogram jest zbliżony do rozkładu normalnego, jednak bardziej przechylony na prawo i wykraczający poza maksumum rozkładu."
   ]
  },
  {
   "cell_type": "code",
   "execution_count": null,
   "metadata": {},
   "outputs": [],
   "source": [
    "values = df_btdusd_change['Close'][1:]  # skip first NA value\n",
    "x = np.linspace(values.min(), values.max(), len(values))\n",
    "\n",
    "loc, scale = stats.norm.fit(values)\n",
    "param_density = stats.norm.cdf(x, loc=loc, scale=scale)\n",
    "label = 'mean=%.4f, std=%.4f' % (loc, scale)\n",
    "\n",
    "fig, ax = plt.subplots(figsize=(10, 6))\n",
    "ax.set_title(\"Dystrybuanta logarytmicznych stóp zwrotu BTC/USD\")\n",
    "ax.hist(values, bins=30, density=True, cumulative=True, histtype='step')\n",
    "ax.plot(x, param_density, 'r-', label=label)\n",
    "ax.legend(loc='best')"
   ]
  },
  {
   "cell_type": "markdown",
   "metadata": {},
   "source": [
    "Dystrybuanta empiryczna jest zbliżona do teoretycznej. W górnej części wykresu najbardziej od niej odbiega."
   ]
  },
  {
   "cell_type": "markdown",
   "metadata": {},
   "source": [
    "### Autokorelacja"
   ]
  },
  {
   "cell_type": "code",
   "execution_count": null,
   "metadata": {},
   "outputs": [],
   "source": [
    "pd.plotting.autocorrelation_plot(df_btcusd['Close'])"
   ]
  },
  {
   "cell_type": "markdown",
   "metadata": {},
   "source": [
    "Z wykresu autokorelacji wynika, że w szeregu występują zależności. "
   ]
  },
  {
   "cell_type": "code",
   "execution_count": null,
   "metadata": {},
   "outputs": [],
   "source": [
    "pd.plotting.autocorrelation_plot(df_btdusd_change['Close'][1:])"
   ]
  },
  {
   "cell_type": "markdown",
   "metadata": {},
   "source": [
    "**Autokorelacja dla wymieszanych danych**\n",
    "\n",
    "Mieszając dane w sposób losowy usuwamy korelację między danymi, dlatego w wyniku otrzymany wykres autokorelacji jest linią prostą y=0 (autokorelacja wynosi 0)"
   ]
  },
  {
   "cell_type": "code",
   "execution_count": null,
   "metadata": {},
   "outputs": [],
   "source": [
    "shuffled = sklearn.utils.shuffle(df_btcusd)\n",
    "pd.plotting.autocorrelation_plot(shuffled['Close'])"
   ]
  },
  {
   "cell_type": "markdown",
   "metadata": {},
   "source": [
    "## Data-puzzle"
   ]
  },
  {
   "cell_type": "markdown",
   "metadata": {},
   "source": [
    "Wczytujemy dane z pliku:"
   ]
  },
  {
   "cell_type": "code",
   "execution_count": null,
   "metadata": {},
   "outputs": [],
   "source": [
    "import pandas as pd\n",
    "df_data_puzzle = pd.read_csv('data_puzzle.dat', header=None)\n",
    "df_data_puzzle"
   ]
  },
  {
   "cell_type": "code",
   "execution_count": null,
   "metadata": {},
   "outputs": [],
   "source": [
    "df_data_puzzle.describe()"
   ]
  },
  {
   "cell_type": "code",
   "execution_count": null,
   "metadata": {},
   "outputs": [],
   "source": [
    "df_data_puzzle.plot(title=\"Wykres danych data_puzzle\")"
   ]
  },
  {
   "cell_type": "markdown",
   "metadata": {},
   "source": [
    "Dane na wykresie przejawiają sezonowość.\n",
    "\n",
    "Następnie standaryzujemy dane i wyliczamy stopy zwtotu jako różnicę obecnej wartości i poprzedniej:"
   ]
  },
  {
   "cell_type": "code",
   "execution_count": null,
   "metadata": {},
   "outputs": [],
   "source": [
    "df_data_puzzle = standarize(df_data_puzzle)\n",
    "data_puzzle_rets = df_data_puzzle / df_data_puzzle.shift(1) - 1\n",
    "data_puzzle_rets.plot(label='return')"
   ]
  },
  {
   "cell_type": "code",
   "execution_count": null,
   "metadata": {},
   "outputs": [],
   "source": [
    "data_puzzle_rets.describe()"
   ]
  },
  {
   "cell_type": "markdown",
   "metadata": {},
   "source": [
    "Wyliczamy też logarytmiczne stopy zwrotu:"
   ]
  },
  {
   "cell_type": "code",
   "execution_count": null,
   "metadata": {},
   "outputs": [],
   "source": [
    "import numpy as np\n",
    "df_data_puzzle_change = df_data_puzzle.apply(lambda x: np.log(x) - np.log(x.shift(1))) \n",
    "df_data_puzzle_change.plot(title=\"Logarytmiczne stopy zwrotu dla danych data_puzzle\")"
   ]
  },
  {
   "cell_type": "code",
   "execution_count": null,
   "metadata": {},
   "outputs": [],
   "source": [
    "import scipy.stats as stats\n",
    "fig, ax = plt.subplots(figsize=(10, 6))\n",
    "\n",
    "\n",
    "loc, scale = stats.norm.fit(data_puzzle_rets) \n",
    "x = np.linspace(data_puzzle_rets.min(), data_puzzle_rets.max(), len(data_puzzle_rets))\n",
    "pdf = stats.norm.pdf(x, loc=loc, scale=scale) \n",
    "label = 'mean=%.4f, std=%.4f, shape=%.4f' % (loc, scale, shape)\n",
    "ax.set_title(\"Histogram stóp zwrotu BTC/USD\")\n",
    "ax.hist(data_puzzle_rets, bins=30, density=True)\n",
    "ax.plot(x, pdf, 'r-', lw=2, label=label)\n",
    "ax.legend(loc='best')"
   ]
  },
  {
   "cell_type": "markdown",
   "metadata": {},
   "source": [
    "Na wykresie pojawiają się skupiska o podobnej szerokości."
   ]
  },
  {
   "cell_type": "code",
   "execution_count": null,
   "metadata": {},
   "outputs": [],
   "source": [
    "df_data_puzzle_change.describe()"
   ]
  },
  {
   "cell_type": "markdown",
   "metadata": {},
   "source": [
    "Obliczamy autokorelację dla danych data_puzzle"
   ]
  },
  {
   "cell_type": "code",
   "execution_count": null,
   "metadata": {},
   "outputs": [],
   "source": [
    "pd.plotting.autocorrelation_plot(df_data_puzzle[0])"
   ]
  },
  {
   "cell_type": "markdown",
   "metadata": {},
   "source": [
    "W szeregu znajdują się zależności. Wykres autokorelacji jest podobny do wykresu drgań oscylatora harmonicznego tłumionego."
   ]
  },
  {
   "cell_type": "markdown",
   "metadata": {},
   "source": [
    "# LAB 4\n",
    "## Transformata Fouriera i widmo mocy"
   ]
  },
  {
   "cell_type": "markdown",
   "metadata": {},
   "source": [
    "https://ipython-books.github.io/101-analyzing-the-frequency-components-of-a-signal-with-a-fast-fourier-transform/"
   ]
  },
  {
   "cell_type": "code",
   "execution_count": null,
   "metadata": {},
   "outputs": [],
   "source": [
    "import scipy as sp\n",
    "import scipy.fftpack\n",
    "data_puzzle_fft = sp.fftpack.fft(df_data_puzzle)"
   ]
  },
  {
   "cell_type": "code",
   "execution_count": null,
   "metadata": {},
   "outputs": [],
   "source": [
    "data_puzzle_psd = np.abs(data_puzzle_fft) ** 2"
   ]
  },
  {
   "cell_type": "code",
   "execution_count": null,
   "metadata": {},
   "outputs": [],
   "source": [
    "plt.plot(data_puzzle_fft)"
   ]
  },
  {
   "cell_type": "code",
   "execution_count": null,
   "metadata": {},
   "outputs": [],
   "source": [
    "plt.plot(data_puzzle_psd)"
   ]
  }
 ],
 "metadata": {
  "kernelspec": {
   "display_name": "Python 3",
   "language": "python",
   "name": "python3"
  },
  "language_info": {
   "codemirror_mode": {
    "name": "ipython",
    "version": 3
   },
   "file_extension": ".py",
   "mimetype": "text/x-python",
   "name": "python",
   "nbconvert_exporter": "python",
   "pygments_lexer": "ipython3",
   "version": "3.7.4"
  }
 },
 "nbformat": 4,
 "nbformat_minor": 2
}
